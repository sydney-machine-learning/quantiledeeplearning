{
 "cells": [
  {
   "cell_type": "code",
   "execution_count": 1,
   "id": "c3006aa7-cd5e-42c9-8632-bb4718524b64",
   "metadata": {},
   "outputs": [],
   "source": [
    "# Construct Quantile Regression using PyTorch"
   ]
  },
  {
   "cell_type": "code",
   "execution_count": 2,
   "id": "09f92028-c603-49d9-880a-b347274ddb67",
   "metadata": {},
   "outputs": [],
   "source": [
    "# import libraries\n",
    "import pandas as pd\n",
    "from sklearn.model_selection import train_test_split\n",
    "from sklearn.preprocessing import MinMaxScaler"
   ]
  },
  {
   "cell_type": "code",
   "execution_count": 3,
   "id": "24608185-8cf1-4313-9d9c-af681bd9ff2e",
   "metadata": {},
   "outputs": [],
   "source": [
    "Bitcoin = pd.read_csv('data/coin_Bitcoin.csv')"
   ]
  },
  {
   "cell_type": "code",
   "execution_count": 4,
   "id": "6b45fc7b-e814-42c3-b1bc-c2f9de32477e",
   "metadata": {},
   "outputs": [],
   "source": [
    "## DATA PREPARATION\n",
    "# Changing Date to appropriate format\n",
    "Bitcoin[\"Date\"] = pd.to_datetime(Bitcoin[\"Date\"], format='%Y-%m-%d %H:%M:%S')\n",
    "Bitcoin[\"Date\"] = Bitcoin[\"Date\"].dt.strftime('%Y-%m-%d')\n",
    "Bitcoin[\"Date\"] = pd.to_datetime(Bitcoin[\"Date\"], format='%Y-%m-%d')\n",
    "# Bitcoin.info()\n",
    "# Bitcoin"
   ]
  },
  {
   "cell_type": "code",
   "execution_count": 5,
   "id": "44e3369a-9618-4576-87a5-33a845553df4",
   "metadata": {},
   "outputs": [],
   "source": [
    "Bitcoin.set_index(\"Date\", inplace=True)\n",
    "# Bitcoin"
   ]
  },
  {
   "cell_type": "code",
   "execution_count": 6,
   "id": "16f14993-8f67-4bab-a9ec-0199cc0b4760",
   "metadata": {},
   "outputs": [],
   "source": [
    "# Getting rid of unnecessary columns\n",
    "data = Bitcoin.iloc[:, 3:]\n",
    "# data\n",
    "# Define features and target\n",
    "X = data[['High', 'Low', 'Open', 'Volume', 'Marketcap']] # Multivariate\n",
    "Y = data['Close']\n",
    "\n",
    "# Normalise - necessary because clearly Volume is much larger than other values\n",
    "scaler = MinMaxScaler()\n",
    "X = scaler.fit_transform(X)\n",
    "# train test split & shuffle\n",
    "X_train, X_test, y_train, y_test = train_test_split(X, Y, test_size=0.2, random_state=5925)\n",
    "# X_train, X_test, y_train, y_test"
   ]
  },
  {
   "cell_type": "code",
   "execution_count": 7,
   "id": "276e41f9-d74b-4221-aaf8-de140a8b94a4",
   "metadata": {},
   "outputs": [],
   "source": [
    "# data.info()"
   ]
  },
  {
   "cell_type": "code",
   "execution_count": 8,
   "id": "983e0103-28ed-4c13-8b0c-8f6fa12bfcac",
   "metadata": {},
   "outputs": [],
   "source": [
    "# MODEL FITTING - PYTORCH\n",
    "import torch"
   ]
  },
  {
   "cell_type": "code",
   "execution_count": 9,
   "id": "61439b10-0a5e-425d-9c5e-5f5215e538ba",
   "metadata": {},
   "outputs": [
    {
     "name": "stderr",
     "output_type": "stream",
     "text": [
      "/var/folders/lm/0cmy_pz92j91mzfd0b575q0w0000gn/T/ipykernel_95997/2604877086.py:4: FutureWarning: Series.__getitem__ treating keys as positions is deprecated. In a future version, integer keys will always be treated as labels (consistent with DataFrame behavior). To access a value by position, use `ser.iloc[pos]`\n",
      "  y_train_tensor = torch.tensor(y_train, dtype=torch.float32).view(-1, 1) # reshape for nn compatibility\n",
      "/var/folders/lm/0cmy_pz92j91mzfd0b575q0w0000gn/T/ipykernel_95997/2604877086.py:6: FutureWarning: Series.__getitem__ treating keys as positions is deprecated. In a future version, integer keys will always be treated as labels (consistent with DataFrame behavior). To access a value by position, use `ser.iloc[pos]`\n",
      "  y_test_tensor = torch.tensor(y_test, dtype=torch.float32).view(-1, 1)\n"
     ]
    }
   ],
   "source": [
    "# Convert data to PyTorch tensors\n",
    "# model parameters by default have data type `torch.float32`, so we need to ensure data type is consistent here\n",
    "X_train_tensor = torch.tensor(X_train, dtype=torch.float32) \n",
    "y_train_tensor = torch.tensor(y_train, dtype=torch.float32).view(-1, 1) # reshape for nn compatibility\n",
    "X_test_tensor = torch.tensor(X_test, dtype=torch.float32)\n",
    "y_test_tensor = torch.tensor(y_test, dtype=torch.float32).view(-1, 1)"
   ]
  },
  {
   "cell_type": "code",
   "execution_count": 10,
   "id": "44b6997a-ca18-49e3-bcd6-b4b7fc1039e8",
   "metadata": {},
   "outputs": [],
   "source": [
    "# X_train_tensor.shape, X_test_tensor.shape, y_train_tensor.shape, y_test_tensor.shape"
   ]
  },
  {
   "cell_type": "code",
   "execution_count": 11,
   "id": "a2783265-7955-47bf-af1b-2e1563ad8e86",
   "metadata": {},
   "outputs": [],
   "source": [
    "import torch.nn as nn"
   ]
  },
  {
   "cell_type": "code",
   "execution_count": 12,
   "id": "5e1158ff-f835-4276-baac-e0223fb70433",
   "metadata": {},
   "outputs": [],
   "source": [
    "# Define model\n",
    "class QuantileRegressionModel(nn.Module):\n",
    "    def __init__(self, input_dim, output_dim, quantiles): # takes in dimensions and quantiles\n",
    "        super(QuantileRegressionModel, self).__init__()\n",
    "        self.quantiles = quantiles\n",
    "        self.layers = nn.ModuleList([nn.Linear(input_dim, output_dim) for _ in quantiles]) # for loop for different quantiles\n",
    "        # linear transformation - https://pytorch.org/docs/stable/nn.html#linear-layers\n",
    "    \n",
    "    def forward(self, x):\n",
    "        return torch.cat([layer(x) for layer in self.layers], dim=1) # move all quantile models forward"
   ]
  },
  {
   "cell_type": "code",
   "execution_count": 13,
   "id": "c0176206-57c6-40a0-aaad-cba9cd3784b2",
   "metadata": {},
   "outputs": [],
   "source": [
    "# Define model parameters\n",
    "input_dim = X_train.shape[1] # 5 features = High, Low, Open, Volume, Marketcap\n",
    "output_dim = 1 # Close Price\n",
    "quantiles = [0.05, 0.25, 0.5, 0.75, 0.95]"
   ]
  },
  {
   "cell_type": "code",
   "execution_count": 14,
   "id": "b380a7aa-a93b-4b77-b50b-278a2a88c37c",
   "metadata": {},
   "outputs": [],
   "source": [
    "# Initialise the model\n",
    "model = QuantileRegressionModel(input_dim, output_dim, quantiles)"
   ]
  },
  {
   "cell_type": "code",
   "execution_count": 15,
   "id": "f708480e-5613-476c-81b6-e38129c2b2da",
   "metadata": {},
   "outputs": [],
   "source": [
    "def quantile_loss(predictions, targets, quantiles): # tilted-loss function\n",
    "    losses = []\n",
    "    for i, q in enumerate(quantiles):\n",
    "        errors = targets - predictions[:, i:i+1]\n",
    "        losses.append(torch.max((q-1) * errors, q * errors).mean())\n",
    "    return sum(losses)"
   ]
  },
  {
   "cell_type": "code",
   "execution_count": 16,
   "id": "32ea8645-ccf4-406f-bb35-47d248c4de3e",
   "metadata": {},
   "outputs": [],
   "source": [
    "import torch.optim as optim"
   ]
  },
  {
   "cell_type": "code",
   "execution_count": 17,
   "id": "ebe656d2-194e-4f05-a2f0-fe7ad1f6b163",
   "metadata": {},
   "outputs": [],
   "source": [
    "# Train the model\n",
    "optimiser = optim.Adam(model.parameters(), lr=0.01) # Optimiser ADAM, lr = learning rate (play around with values to optimise)\n",
    "# https://pytorch.org/docs/stable/optim.html"
   ]
  },
  {
   "cell_type": "code",
   "execution_count": 35,
   "id": "32a3e7b6-e1fa-4578-a36b-cc37f7451456",
   "metadata": {},
   "outputs": [
    {
     "name": "stdout",
     "output_type": "stream",
     "text": [
      "Epoch [1000/10000], Loss: 16802.8789\n",
      "Epoch [2000/10000], Loss: 16766.7051\n",
      "Epoch [3000/10000], Loss: 16730.5312\n",
      "Epoch [4000/10000], Loss: 16694.3672\n",
      "Epoch [5000/10000], Loss: 16658.1992\n",
      "Epoch [6000/10000], Loss: 16622.0352\n",
      "Epoch [7000/10000], Loss: 16585.8672\n",
      "Epoch [8000/10000], Loss: 16549.7656\n",
      "Epoch [9000/10000], Loss: 16513.7090\n",
      "Epoch [10000/10000], Loss: 16477.9922\n"
     ]
    }
   ],
   "source": [
    "# Training loop\n",
    "num_epochs = 10000\n",
    "for epoch in range(num_epochs):\n",
    "    model.train()\n",
    "    optimiser.zero_grad()\n",
    "    \n",
    "    # Forward pass\n",
    "    outputs = model(X_train_tensor)\n",
    "    \n",
    "    # Compute loss\n",
    "    loss = quantile_loss(outputs, y_train_tensor, quantiles)\n",
    "    \n",
    "    # Backward pass and optimization\n",
    "    loss.backward()\n",
    "    optimiser.step()\n",
    "    \n",
    "    if (epoch+1) % 1000 == 0:\n",
    "        print(f'Epoch [{epoch+1}/{num_epochs}], Loss: {loss.item():.4f}')"
   ]
  },
  {
   "cell_type": "code",
   "execution_count": 37,
   "id": "286d4ecb-99a8-4013-a9bc-9d8baddff487",
   "metadata": {},
   "outputs": [
    {
     "name": "stdout",
     "output_type": "stream",
     "text": [
      "Test Loss: 16177.7695\n",
      "Test Predictions: [0.05, 0.25, 0.5, 0.75, 0.95] percentile\n",
      "tensor([[151.1027, 151.8765, 151.6512, 152.0194, 152.0140],\n",
      "        [154.2093, 154.9832, 154.7538, 155.1277, 155.1122],\n",
      "        [151.2690, 152.0444, 151.8194, 152.1892, 152.1800],\n",
      "        ...,\n",
      "        [206.3270, 207.0780, 206.7589, 207.1906, 207.0820],\n",
      "        [484.2419, 484.9800, 484.1034, 484.7915, 484.1688],\n",
      "        [100.4756, 101.2473, 101.1304, 101.4562, 101.5426]])\n"
     ]
    }
   ],
   "source": [
    "# Evaluate the model using the test dataset\n",
    "model.eval()\n",
    "with torch.no_grad():\n",
    "    test_outputs = model(X_test_tensor) # substitute test dataset inputs\n",
    "    test_loss = quantile_loss(test_outputs, y_test_tensor, quantiles) # calculate test loss by comparing predicted values vs actual values\n",
    "    print(f'Test Loss: {test_loss.item():.4f}')\n",
    "\n",
    "# Print test predictions\n",
    "print(\"Test Predictions: [0.05, 0.25, 0.5, 0.75, 0.95] percentile\")\n",
    "print(test_outputs)"
   ]
  },
  {
   "cell_type": "code",
   "execution_count": 83,
   "id": "3e101530-28c0-4ec2-8d59-5edee2446c43",
   "metadata": {},
   "outputs": [
    {
     "data": {
      "text/plain": [
       "torch.Size([599, 5])"
      ]
     },
     "execution_count": 83,
     "metadata": {},
     "output_type": "execute_result"
    }
   ],
   "source": [
    "# test_outputs.shape"
   ]
  },
  {
   "cell_type": "code",
   "execution_count": null,
   "id": "5f505b0f-0b61-45eb-9e9b-a57ebba9005d",
   "metadata": {},
   "outputs": [],
   "source": [
    "# y_test_tensor "
   ]
  },
  {
   "cell_type": "code",
   "execution_count": null,
   "id": "bcc12a18-2b33-4e5c-b45e-799ad0812069",
   "metadata": {},
   "outputs": [],
   "source": [
    "# seems wildly off, but model is somewhat working because it is following similar trend \n",
    "'''    Predicted     Actual\n",
    "Obs 1: 15.5857       8094.3198\n",
    "Obs 2: 15.8977       8913.4697\n",
    "Obs 3: 15.6026       8338.3496\n",
    "...\n",
    "Obs -3: 21.1240      17429.5000\n",
    "Obs -2: 48.9142      58803.7773\n",
    "Obs -1: 10.5271      331.8860\n",
    "'''"
   ]
  },
  {
   "cell_type": "code",
   "execution_count": 39,
   "id": "206885d8-5046-4886-b4de-00642302b9c4",
   "metadata": {},
   "outputs": [],
   "source": [
    "import matplotlib.pyplot as plt\n",
    "import numpy as np"
   ]
  },
  {
   "cell_type": "code",
   "execution_count": 59,
   "id": "5591b4fb-ea93-40f2-aa4d-df26e73f9d36",
   "metadata": {},
   "outputs": [],
   "source": [
    "# Plot the 5 values\n",
    "predicted_values = test_outputs.numpy() # convert tensor to numpy\n",
    "# Plot the actual values on the same graph as the predicted values\n",
    "actual_values = y_test_tensor.numpy()"
   ]
  },
  {
   "cell_type": "code",
   "execution_count": 45,
   "id": "237bf6ef-f1cf-431e-8529-9ebe09991ebb",
   "metadata": {},
   "outputs": [],
   "source": [
    "# quantiles"
   ]
  },
  {
   "cell_type": "code",
   "execution_count": 67,
   "id": "c11985a8-8245-4cdf-a82a-7b5d2a4b143b",
   "metadata": {},
   "outputs": [],
   "source": [
    "# Only plot the first 10 values - otherwise scatterplot is too clustered\n",
    "num_points = 10\n",
    "index = np.arange(num_points)"
   ]
  },
  {
   "cell_type": "code",
   "execution_count": 71,
   "id": "53abd587-0faa-4a1b-a169-4464dacd07f4",
   "metadata": {},
   "outputs": [
    {
     "data": {
      "image/png": "[encoded data removed]",
      "text/plain": [
       "<Figure size 640x480 with 1 Axes>"
      ]
     },
     "metadata": {},
     "output_type": "display_data"
    }
   ],
   "source": [
    "colors = ['blue', 'green', 'orange', 'red', 'purple']\n",
    "for i, quantile in enumerate(quantiles):\n",
    "    plt.scatter(index, predicted_values[:num_points, i], color=colors[i], label=f'Predicted Quantile {quantile}') # scatterplot\n",
    "    # plt.plot(predicted_values[:, i], color=colors[i], label=f'Quantile {quantile}') # line plot\n",
    "\n",
    "plt.scatter(index, actual_values[:num_points], color = 'black', label = 'Actual Value')\n",
    "\n",
    "plt.xlabel('Index')\n",
    "plt.ylabel('Value')\n",
    "plt.yscale('log')\n",
    "plt.title('Quantile Regression Outputs (First 10 Values, Scatterplot with Log Scale)')\n",
    "plt.legend()\n",
    "plt.grid(True, which=\"both\", linestyle='--', linewidth=0.5)\n",
    "plt.show()"
   ]
  },
  {
   "cell_type": "code",
   "execution_count": null,
   "id": "f1da504e-3297-49ad-806b-6d1e64e0db04",
   "metadata": {},
   "outputs": [],
   "source": []
  },
  {
   "cell_type": "code",
   "execution_count": null,
   "id": "c945ff60-e93a-4992-aa94-b987998d4107",
   "metadata": {},
   "outputs": [],
   "source": []
  },
  {
   "cell_type": "code",
   "execution_count": null,
   "id": "682cc0bb-f02c-4f6f-9e5a-c90fc871e2f7",
   "metadata": {},
   "outputs": [],
   "source": []
  },
  {
   "cell_type": "code",
   "execution_count": null,
   "id": "71f5f260-e9f1-4a83-a2cc-cbb703963f45",
   "metadata": {},
   "outputs": [],
   "source": []
  },
  {
   "cell_type": "code",
   "execution_count": null,
   "id": "0265e8cb-97cf-412a-87a0-c43d8d86100d",
   "metadata": {},
   "outputs": [],
   "source": []
  },
  {
   "cell_type": "code",
   "execution_count": null,
   "id": "b78492bc-3a49-4b2b-982c-475f1b3955e5",
   "metadata": {},
   "outputs": [],
   "source": []
  },
  {
   "cell_type": "code",
   "execution_count": null,
   "id": "9437a2d8-7f56-4cbc-abd0-eca854f3f317",
   "metadata": {},
   "outputs": [],
   "source": []
  }
 ],
 "metadata": {
  "kernelspec": {
   "display_name": "Python 3 (ipykernel)",
   "language": "python",
   "name": "python3"
  },
  "language_info": {
   "codemirror_mode": {
    "name": "ipython",
    "version": 3
   },
   "file_extension": ".py",
   "mimetype": "text/x-python",
   "name": "python",
   "nbconvert_exporter": "python",
   "pygments_lexer": "ipython3",
   "version": "3.11.7"
  }
 },
 "nbformat": 4,
 "nbformat_minor": 5
}
