{
 "cells": [
  {
   "cell_type": "code",
   "execution_count": null,
   "id": "8ae4f604-add6-418e-abe5-9c7cbb04b4a1",
   "metadata": {},
   "outputs": [],
   "source": [
    "# This file serves as a scrap paper\n",
    "# feel free to run code chunks here since running the whole py file (especially importing libraries)\n",
    "# are time consuming and battery intensive"
   ]
  },
  {
   "cell_type": "code",
   "execution_count": null,
   "id": "165256f4-3864-43a9-9581-af2413648833",
   "metadata": {},
   "outputs": [],
   "source": []
  },
  {
   "cell_type": "code",
   "execution_count": null,
   "id": "93bd6d80-a02d-443b-825d-eecee20d8e47",
   "metadata": {},
   "outputs": [],
   "source": []
  },
  {
   "cell_type": "code",
   "execution_count": 1,
   "id": "bf9df63b-883e-4d48-a146-57fcb1ca3354",
   "metadata": {},
   "outputs": [],
   "source": [
    "a = 5"
   ]
  },
  {
   "cell_type": "code",
   "execution_count": 2,
   "id": "f345524c-d9db-4670-a55f-1d0d026ac229",
   "metadata": {},
   "outputs": [
    {
     "data": {
      "text/plain": [
       "int"
      ]
     },
     "execution_count": 2,
     "metadata": {},
     "output_type": "execute_result"
    }
   ],
   "source": [
    "type(a)"
   ]
  },
  {
   "cell_type": "code",
   "execution_count": 3,
   "id": "55cf4baa-a0c1-4f4e-a0a4-2e3b7d59d510",
   "metadata": {},
   "outputs": [],
   "source": [
    "b = str(a)"
   ]
  },
  {
   "cell_type": "code",
   "execution_count": 4,
   "id": "2279aefc-5945-4e02-b433-bb01eba75416",
   "metadata": {},
   "outputs": [
    {
     "data": {
      "text/plain": [
       "str"
      ]
     },
     "execution_count": 4,
     "metadata": {},
     "output_type": "execute_result"
    }
   ],
   "source": [
    "type(b)"
   ]
  },
  {
   "cell_type": "code",
   "execution_count": 5,
   "id": "6e578d87-c152-41e5-9e02-619e186a2101",
   "metadata": {},
   "outputs": [],
   "source": [
    "c = '5'"
   ]
  },
  {
   "cell_type": "code",
   "execution_count": 6,
   "id": "de3c2127-2314-44f5-9bf9-457a0859ba28",
   "metadata": {},
   "outputs": [
    {
     "data": {
      "text/plain": [
       "str"
      ]
     },
     "execution_count": 6,
     "metadata": {},
     "output_type": "execute_result"
    }
   ],
   "source": [
    "type(c)"
   ]
  },
  {
   "cell_type": "code",
   "execution_count": null,
   "id": "23069a0e-4fa2-4268-8b64-8c4cd00adaf2",
   "metadata": {},
   "outputs": [],
   "source": []
  },
  {
   "cell_type": "code",
   "execution_count": null,
   "id": "40e7b358-509c-491f-8427-c4c1fdb2a475",
   "metadata": {},
   "outputs": [],
   "source": []
  },
  {
   "cell_type": "code",
   "execution_count": null,
   "id": "856684fa-f10a-4a76-a579-d4b46709a04e",
   "metadata": {},
   "outputs": [],
   "source": []
  },
  {
   "cell_type": "code",
   "execution_count": null,
   "id": "a7a59d41-96f9-4ff0-ae5a-87c482bf065b",
   "metadata": {},
   "outputs": [],
   "source": []
  },
  {
   "cell_type": "code",
   "execution_count": null,
   "id": "34bb5f2a-6cd3-422c-93bf-4015f182ad66",
   "metadata": {},
   "outputs": [],
   "source": []
  },
  {
   "cell_type": "code",
   "execution_count": null,
   "id": "c34d6e27-33d7-4cb8-b853-a8f1ad86d5fc",
   "metadata": {},
   "outputs": [],
   "source": []
  },
  {
   "cell_type": "code",
   "execution_count": null,
   "id": "41b8bb04-6747-4482-b1d9-8eb536302586",
   "metadata": {},
   "outputs": [],
   "source": []
  },
  {
   "cell_type": "code",
   "execution_count": null,
   "id": "caf9cb98-b346-4e2b-b997-79d942661d7d",
   "metadata": {},
   "outputs": [],
   "source": []
  },
  {
   "cell_type": "code",
   "execution_count": null,
   "id": "56d788fa-e6ed-4309-a0b0-f38ac863ffe0",
   "metadata": {},
   "outputs": [],
   "source": []
  },
  {
   "cell_type": "code",
   "execution_count": null,
   "id": "0e8d0e58-5d1b-44df-89a5-45b449b339ca",
   "metadata": {},
   "outputs": [],
   "source": []
  },
  {
   "cell_type": "code",
   "execution_count": null,
   "id": "2cef1062-001c-4a8c-9e12-3a248ef40031",
   "metadata": {},
   "outputs": [],
   "source": []
  },
  {
   "cell_type": "code",
   "execution_count": null,
   "id": "416da9b2-bc9d-4601-b541-b91eef734252",
   "metadata": {},
   "outputs": [],
   "source": []
  },
  {
   "cell_type": "code",
   "execution_count": null,
   "id": "a487c56c-aa18-4545-9baa-e8de8dedaa78",
   "metadata": {},
   "outputs": [],
   "source": []
  },
  {
   "cell_type": "code",
   "execution_count": null,
   "id": "d6110c4f-5a2c-47b8-98e4-a17e913a161d",
   "metadata": {},
   "outputs": [],
   "source": []
  },
  {
   "cell_type": "code",
   "execution_count": null,
   "id": "3a49b5c3-e720-45e5-ade7-ef3d5c3239e4",
   "metadata": {},
   "outputs": [],
   "source": []
  },
  {
   "cell_type": "code",
   "execution_count": null,
   "id": "3618dfbd-b9bb-4232-bfee-aecab644e777",
   "metadata": {},
   "outputs": [],
   "source": []
  }
 ],
 "metadata": {
  "kernelspec": {
   "display_name": "Python [conda env:base] *",
   "language": "python",
   "name": "conda-base-py"
  },
  "language_info": {
   "codemirror_mode": {
    "name": "ipython",
    "version": 3
   },
   "file_extension": ".py",
   "mimetype": "text/x-python",
   "name": "python",
   "nbconvert_exporter": "python",
   "pygments_lexer": "ipython3",
   "version": "3.11.13"
  }
 },
 "nbformat": 4,
 "nbformat_minor": 5
}
